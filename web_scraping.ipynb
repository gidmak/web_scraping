{
 "cells": [
  {
   "cell_type": "code",
   "execution_count": 4,
   "id": "9690c4a2",
   "metadata": {},
   "outputs": [
    {
     "name": "stdout",
     "output_type": "stream",
     "text": [
      "           date         home team  score      away team\n",
      "0    12-08-2023           Arsenal  2 - 1  Nott'm Forest\n",
      "1    21-08-2023    Crystal Palace  0 - 1        Arsenal\n",
      "2    26-08-2023           Arsenal  2 - 2         Fulham\n",
      "3    03-09-2023           Arsenal  3 - 1     Man United\n",
      "4    17-09-2023           Everton  0 - 1        Arsenal\n",
      "..          ...               ...    ...            ...\n",
      "265  21-10-2023       Bournemouth  1 - 2         Wolves\n",
      "266  28-10-2023            Wolves  2 - 2      Newcastle\n",
      "267  04-11-2023  Sheffield United  2 - 1         Wolves\n",
      "268  11-11-2023            Wolves  2 - 1      Tottenham\n",
      "269  27-11-2023            Fulham  3 - 2         Wolves\n",
      "\n",
      "[270 rows x 4 columns]\n"
     ]
    }
   ],
   "source": [
    "from selenium import webdriver\n",
    "from selenium.webdriver.common.by import By\n",
    "import pandas as pd \n",
    "\n",
    "# Website to scrap from\n",
    "website ='https://www.adamchoi.co.uk/overs/detailed'\n",
    "\n",
    "driver = webdriver.Firefox()\n",
    "\n",
    "driver.get(website)\n",
    "all_matches_button = driver.find_element(By.XPATH, '//label[@analytics-event=\"All matches\"]')\n",
    "all_matches_button.click()\n",
    "\n",
    "date = []\n",
    "home_team = []\n",
    "score = []\n",
    "away_team = []\n",
    "\n",
    "matches = driver.find_elements(By.TAG_NAME, \"tr\")\n",
    "\n",
    "# Append web elements to variables\n",
    "for match in matches:\n",
    "    date.append(match.find_element(By.XPATH, './td[1]').text)\n",
    "    home_team.append(match.find_element(By.XPATH, './td[2]').text)\n",
    "    score.append(match.find_element(By.XPATH, './td[3]').text)\n",
    "    away_team.append(match.find_element(By.XPATH, './td[4]').text)\n",
    "\n",
    "driver.quit()\n",
    "\n",
    "# Create a dataframe with the web elements\n",
    "df = pd.DataFrame({'date': date, 'home team': home_team, 'score': score, 'away team': away_team})\n",
    "\n",
    "print(df)"
   ]
  },
  {
   "cell_type": "code",
   "execution_count": null,
   "id": "1c2803a6",
   "metadata": {},
   "outputs": [],
   "source": []
  }
 ],
 "metadata": {
  "kernelspec": {
   "display_name": "Python 3 (ipykernel)",
   "language": "python",
   "name": "python3"
  },
  "language_info": {
   "codemirror_mode": {
    "name": "ipython",
    "version": 3
   },
   "file_extension": ".py",
   "mimetype": "text/x-python",
   "name": "python",
   "nbconvert_exporter": "python",
   "pygments_lexer": "ipython3",
   "version": "3.9.13"
  }
 },
 "nbformat": 4,
 "nbformat_minor": 5
}
